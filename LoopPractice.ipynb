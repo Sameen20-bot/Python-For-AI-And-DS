{
 "cells": [
  {
   "cell_type": "markdown",
   "id": "6e23ff4b-5f65-46eb-a05d-6a4a73699586",
   "metadata": {},
   "source": [
    "#### Check if a number odd or even"
   ]
  },
  {
   "cell_type": "code",
   "execution_count": 3,
   "id": "7178a260-54e7-4fb4-9381-f7ca796002d4",
   "metadata": {},
   "outputs": [
    {
     "name": "stdout",
     "output_type": "stream",
     "text": [
      "100  is even number\n"
     ]
    }
   ],
   "source": [
    "x = 100\n",
    "\n",
    "if x % 2 == 0:\n",
    "    print(x, \" is even number\")\n",
    "else:\n",
    "    print(x, \" is odd number\")"
   ]
  },
  {
   "cell_type": "code",
   "execution_count": 4,
   "id": "d7f62260-94fd-4a40-9cd2-c2ba1c7b7914",
   "metadata": {},
   "outputs": [
    {
     "name": "stdout",
     "output_type": "stream",
     "text": [
      "2  is even number\n"
     ]
    }
   ],
   "source": [
    "x = 2\n",
    "\n",
    "if x % 2 == 0:\n",
    "    print(x, \" is even number\")\n",
    "else:\n",
    "    print(x, \" is odd number\")"
   ]
  },
  {
   "cell_type": "markdown",
   "id": "8ba350cd-0149-4813-8220-fa1e5b074896",
   "metadata": {},
   "source": [
    "#### < 18 & > 50 are not allowed for the party. --> 18 or above and 50 and below are allowed for the party."
   ]
  },
  {
   "cell_type": "code",
   "execution_count": 5,
   "id": "5a3f6c3b-4b49-4d47-8b90-bdd9d25c8ce2",
   "metadata": {},
   "outputs": [
    {
     "name": "stdin",
     "output_type": "stream",
     "text": [
      "Enter your age:  22\n"
     ]
    },
    {
     "name": "stdout",
     "output_type": "stream",
     "text": [
      "You are allowed\n"
     ]
    }
   ],
   "source": [
    "age = int(input(\"Enter your age: \"))\n",
    "\n",
    "if age < 18 or age > 50:\n",
    "    print(\"Sorry! you are not allowed\")\n",
    "else:\n",
    "    print(\"You are allowed\")"
   ]
  },
  {
   "cell_type": "markdown",
   "id": "24022508-7884-41b3-aeaa-b1ebb62193e0",
   "metadata": {},
   "source": [
    "### Iteration"
   ]
  },
  {
   "cell_type": "code",
   "execution_count": 7,
   "id": "59bdcba6-f2ac-44e1-b1e7-49a7c8237156",
   "metadata": {},
   "outputs": [
    {
     "name": "stdout",
     "output_type": "stream",
     "text": [
      "10\n",
      "20\n",
      "30\n",
      "40\n",
      "50\n"
     ]
    }
   ],
   "source": [
    "#Iterate over a list of integers\n",
    "\n",
    "list_1 = [10,20,30,40,50]\n",
    "\n",
    "for i in list_1:\n",
    "    print(i)"
   ]
  },
  {
   "cell_type": "code",
   "execution_count": 8,
   "id": "709007ec-0257-4202-bb0b-64c080bcb424",
   "metadata": {},
   "outputs": [
    {
     "name": "stdout",
     "output_type": "stream",
     "text": [
      "S\n",
      "a\n",
      "m\n",
      "u\n"
     ]
    }
   ],
   "source": [
    "#Iterate over a String\n",
    "\n",
    "str = \"Samu\"\n",
    "\n",
    "for i in str:\n",
    "    print(i)"
   ]
  },
  {
   "cell_type": "code",
   "execution_count": 12,
   "id": "5b756944-d8a6-4750-81b1-514de4ba3f93",
   "metadata": {},
   "outputs": [
    {
     "name": "stdout",
     "output_type": "stream",
     "text": [
      "1 ['Sameen', 99]\n",
      "2 ['Tooba', 52]\n",
      "3 ['Naheen', 362]\n",
      "4 ['Daniya', 300]\n",
      "5 ['Amna', 278]\n",
      "6 ['Manahil', 1]\n",
      "7 ['Rutaba', 2]\n"
     ]
    }
   ],
   "source": [
    "#Iterate over a dictionary\n",
    "students_data = {1: [\"Sameen\", 99], 2: [\"Tooba\", 52], 3: [\"Naheen\", 362], 4: [\"Daniya\", 300], 5: [\"Amna\", 278], 6: [\"Manahil\", 1], 7: [\"Rutaba\", 2]}\n",
    "\n",
    "for key,value in students_data.items():\n",
    "    print(key, value)"
   ]
  },
  {
   "cell_type": "code",
   "execution_count": 13,
   "id": "158cb199-4522-4887-a5e4-5bf148594dca",
   "metadata": {},
   "outputs": [
    {
     "name": "stdout",
     "output_type": "stream",
     "text": [
      "1\n",
      "2\n",
      "3\n",
      "4\n",
      "5\n",
      "6\n",
      "7\n"
     ]
    }
   ],
   "source": [
    "for key in students_data.keys():\n",
    "    print(key)"
   ]
  },
  {
   "cell_type": "code",
   "execution_count": 14,
   "id": "a7053f08-b7d2-4a18-af14-6137f0fc7834",
   "metadata": {},
   "outputs": [
    {
     "name": "stdout",
     "output_type": "stream",
     "text": [
      "1\n",
      "2\n",
      "3\n",
      "4\n",
      "5\n"
     ]
    }
   ],
   "source": [
    "#Iterate over a range of values\n",
    "\n",
    "for i in range(1,5+1):\n",
    "    print(i)"
   ]
  },
  {
   "cell_type": "markdown",
   "id": "c096ebdd-cfe1-45a0-8c7b-881a6c18f10a",
   "metadata": {},
   "source": [
    "### Comprehensions"
   ]
  },
  {
   "cell_type": "code",
   "execution_count": 17,
   "id": "e0d840a8-6ec4-495e-bfd5-5ec165c6d68d",
   "metadata": {},
   "outputs": [
    {
     "data": {
      "text/plain": [
       "['Automobiles', 'Honda', 'Benz', 'Maruti', 'Kia']"
      ]
     },
     "execution_count": 17,
     "metadata": {},
     "output_type": "execute_result"
    }
   ],
   "source": [
    "list_1 = [\"Automobiles\", \"Honda\", \"Benz\", \"Maruti\", \"Kia\"]\n",
    "\n",
    "newlist = []\n",
    "\n",
    "for i in list_1:\n",
    "    newlist.append(i)\n",
    "newlist"
   ]
  },
  {
   "cell_type": "code",
   "execution_count": 19,
   "id": "ad7eb7a9-af7b-453a-bc34-afcf66458c63",
   "metadata": {},
   "outputs": [
    {
     "data": {
      "text/plain": [
       "[11, 5, 4, 6, 3]"
      ]
     },
     "execution_count": 19,
     "metadata": {},
     "output_type": "execute_result"
    }
   ],
   "source": [
    "list_1 = [\"Automobiles\", \"Honda\", \"Benz\", \"Maruti\", \"Kia\"]\n",
    "\n",
    "list_2 = []\n",
    "\n",
    "for i in list_1:\n",
    "    list_2.append(len(i))\n",
    "list_2"
   ]
  },
  {
   "cell_type": "code",
   "execution_count": 20,
   "id": "b0fad7e0-3b3a-4000-81b8-c939d4641bd8",
   "metadata": {},
   "outputs": [
    {
     "data": {
      "text/plain": [
       "[11, 5, 4, 6, 3]"
      ]
     },
     "execution_count": 20,
     "metadata": {},
     "output_type": "execute_result"
    }
   ],
   "source": [
    "list_1 = [\"Automobiles\", \"Honda\", \"Benz\", \"Maruti\", \"Kia\"]\n",
    "\n",
    "list_2 = [len(i) for i in list_1]\n",
    "\n",
    "list_2"
   ]
  },
  {
   "cell_type": "code",
   "execution_count": 21,
   "id": "3a5291ef-b51c-40e6-a33a-49a734f7b441",
   "metadata": {},
   "outputs": [
    {
     "data": {
      "text/plain": [
       "{'Automobiles': 11, 'Honda': 5, 'Benz': 4, 'Maruti': 6, 'Kia': 3}"
      ]
     },
     "execution_count": 21,
     "metadata": {},
     "output_type": "execute_result"
    }
   ],
   "source": [
    "list_1 = [\"Automobiles\", \"Honda\", \"Benz\", \"Maruti\", \"Kia\"]\n",
    "\n",
    "list_2 = {i: len(i) for i in list_1}\n",
    "\n",
    "list_2"
   ]
  },
  {
   "cell_type": "code",
   "execution_count": 22,
   "id": "4a0f28cc-7f20-4de1-8c31-d2bc74eb41cd",
   "metadata": {},
   "outputs": [
    {
     "data": {
      "text/plain": [
       "{'Automobiles': 11, 'Honda': 5, 'Benz': 4, 'Maruti': 6, 'Kia': 3}"
      ]
     },
     "execution_count": 22,
     "metadata": {},
     "output_type": "execute_result"
    }
   ],
   "source": [
    "list_1 = [\"Automobiles\", \"Honda\", \"Benz\", \"Maruti\", \"Kia\"]\n",
    "\n",
    "list_2 = {}\n",
    "\n",
    "for i in list_1:\n",
    "    list_2[i] = len(i)\n",
    "\n",
    "list_2"
   ]
  },
  {
   "cell_type": "code",
   "execution_count": null,
   "id": "f603face-99db-41ea-be72-575ebf923886",
   "metadata": {},
   "outputs": [],
   "source": []
  },
  {
   "cell_type": "code",
   "execution_count": null,
   "id": "23272aa4-b7d8-4102-9170-6ee1dfc2197d",
   "metadata": {},
   "outputs": [],
   "source": []
  },
  {
   "cell_type": "code",
   "execution_count": null,
   "id": "24844031-ac3f-443b-b9e2-8de4a5e87179",
   "metadata": {},
   "outputs": [],
   "source": []
  },
  {
   "cell_type": "code",
   "execution_count": null,
   "id": "9266c9bc-0f93-49ad-bc3e-e26f04ed3c47",
   "metadata": {},
   "outputs": [],
   "source": []
  },
  {
   "cell_type": "code",
   "execution_count": null,
   "id": "2f7b1964-716c-4a97-ae9f-9b40568f39b7",
   "metadata": {},
   "outputs": [],
   "source": []
  },
  {
   "cell_type": "code",
   "execution_count": null,
   "id": "c9192c8b-af30-4891-93a7-e8c69cab96e8",
   "metadata": {},
   "outputs": [],
   "source": []
  },
  {
   "cell_type": "code",
   "execution_count": null,
   "id": "a728a461-0633-4bc1-863d-f4549c7172ee",
   "metadata": {},
   "outputs": [],
   "source": []
  },
  {
   "cell_type": "code",
   "execution_count": null,
   "id": "c317200f-7520-4cae-a7ba-46d552b61061",
   "metadata": {},
   "outputs": [],
   "source": []
  },
  {
   "cell_type": "code",
   "execution_count": null,
   "id": "d43a6e4d-3069-42be-aa86-950ee10a8acb",
   "metadata": {},
   "outputs": [],
   "source": []
  }
 ],
 "metadata": {
  "kernelspec": {
   "display_name": "Python 3 (ipykernel)",
   "language": "python",
   "name": "python3"
  },
  "language_info": {
   "codemirror_mode": {
    "name": "ipython",
    "version": 3
   },
   "file_extension": ".py",
   "mimetype": "text/x-python",
   "name": "python",
   "nbconvert_exporter": "python",
   "pygments_lexer": "ipython3",
   "version": "3.13.5"
  }
 },
 "nbformat": 4,
 "nbformat_minor": 5
}
