{
 "cells": [
  {
   "cell_type": "markdown",
   "id": "7f484762-a107-4fd7-b940-a6da14a51b10",
   "metadata": {},
   "source": [
    "<h1 style = \"color : Blue\"> i. Creating Classes and Objects </h1>"
   ]
  },
  {
   "cell_type": "code",
   "execution_count": 2,
   "id": "03d7b58b-73aa-4ba2-97a1-9c0850172b72",
   "metadata": {},
   "outputs": [
    {
     "data": {
      "text/plain": [
       "5"
      ]
     },
     "execution_count": 2,
     "metadata": {},
     "output_type": "execute_result"
    }
   ],
   "source": [
    "class Rectangle:\n",
    "    def __init__(self):\n",
    "        self.length = 5\n",
    "        self.breadth = 5\n",
    "\n",
    "rect = Rectangle()\n",
    "rect.length"
   ]
  },
  {
   "cell_type": "code",
   "execution_count": 4,
   "id": "8aada686-973e-47e2-855a-d5612ef7ead2",
   "metadata": {},
   "outputs": [
    {
     "name": "stdout",
     "output_type": "stream",
     "text": [
      "Length = 5 \n",
      "Breadth = 5\n"
     ]
    }
   ],
   "source": [
    "print(\"Length =\", rect.length, \"\\nBreadth =\", rect.breadth)"
   ]
  },
  {
   "cell_type": "markdown",
   "id": "0ef57554-5a75-401b-aca2-38d711b2b34f",
   "metadata": {},
   "source": [
    "<h1 style = \"color : Blue\"> ii. Parameterized Constructor </h1>"
   ]
  },
  {
   "cell_type": "code",
   "execution_count": 5,
   "id": "a46d355a-8dbc-4a23-925b-66869f71e3da",
   "metadata": {},
   "outputs": [
    {
     "data": {
      "text/plain": [
       "10"
      ]
     },
     "execution_count": 5,
     "metadata": {},
     "output_type": "execute_result"
    }
   ],
   "source": [
    "class Rectangle:\n",
    "    def __init__(self,length,breadth):\n",
    "        self.length = length\n",
    "        self.breadth = breadth\n",
    "\n",
    "rect = Rectangle(10,20)\n",
    "rect.length"
   ]
  },
  {
   "cell_type": "markdown",
   "id": "d8f2822d-5003-4f38-ba4f-23812392d904",
   "metadata": {},
   "source": [
    "<h1 style=\"color : Blue\">iii. Class variable and Instance variable"
   ]
  },
  {
   "cell_type": "code",
   "execution_count": 7,
   "id": "9f029d48-c27d-4803-acd4-690048ef4937",
   "metadata": {},
   "outputs": [
    {
     "name": "stdout",
     "output_type": "stream",
     "text": [
      "Radius = 5 \t PI= 3.148\n",
      "Radius = 4 \t PI = 3.14\n"
     ]
    }
   ],
   "source": [
    "class Circle:\n",
    "    pi = 3.148\n",
    "    def __init__(self,radius):\n",
    "        self.radius = radius\n",
    "\n",
    "c = Circle(5)\n",
    "print(\"Radius = {} \\t PI= {}\".format(c.radius,c.pi))\n",
    "c = Circle(4)\n",
    "c.pi = 3.14\n",
    "print(\"Radius = {} \\t PI = {}\".format(c.radius,c.pi))"
   ]
  },
  {
   "cell_type": "markdown",
   "id": "4eed5bee-d979-4399-b8d9-81aa76918677",
   "metadata": {},
   "source": [
    "<h1 style = \"color : Blue\">iii. Adding a method to class</h1>\n"
   ]
  },
  {
   "cell_type": "code",
   "execution_count": 13,
   "id": "9ba4ca8e-3158-4eb6-b119-e0f897cae6a4",
   "metadata": {},
   "outputs": [
    {
     "data": {
      "text/plain": [
       "6"
      ]
     },
     "execution_count": 13,
     "metadata": {},
     "output_type": "execute_result"
    }
   ],
   "source": [
    "class Rectangle:\n",
    "    def __init__(self,length,breadth):\n",
    "        self.length = length\n",
    "        self.breadth = breadth\n",
    "\n",
    "    def calculate_area(self):\n",
    "        return self.length * self.breadth\n",
    "\n",
    "rect = Rectangle(2,3)\n",
    "rect.calculate_area()"
   ]
  },
  {
   "cell_type": "markdown",
   "id": "0b8f8c65-f95e-4a90-b7db-ca7985864e67",
   "metadata": {},
   "source": [
    "<h1 style = \"color : Blue\">v. Inheritance and Overriding"
   ]
  },
  {
   "cell_type": "code",
   "execution_count": 15,
   "id": "1319585a-286d-4034-a9d7-237b3ea44d87",
   "metadata": {},
   "outputs": [
    {
     "name": "stdout",
     "output_type": "stream",
     "text": [
      "Hello World\n"
     ]
    }
   ],
   "source": [
    "class Employee:\n",
    "    def func(self):\n",
    "        print(\"Hello World\")\n",
    "\n",
    "class Department(Employee):\n",
    "    pass\n",
    "\n",
    "dep = Department()\n",
    "dep.func()\n",
    "        "
   ]
  },
  {
   "cell_type": "code",
   "execution_count": 3,
   "id": "6602b839-b769-459e-8a6f-d1896879b69b",
   "metadata": {},
   "outputs": [],
   "source": [
    "class Shape:\n",
    "    def set_color(self,color):\n",
    "        self.color = color\n",
    "\n",
    "    def calculate_area(self):\n",
    "        pass\n",
    "\n",
    "    def color_the_shape(self):\n",
    "        color_price = {\"blue\": 10, \"pink\": 10, \"green\": 5}\n",
    "        return self.calculate_area() * color_price[self.color]\n",
    "        "
   ]
  },
  {
   "cell_type": "code",
   "execution_count": 4,
   "id": "e17b59a9-b933-4d11-87af-87bf15ae742f",
   "metadata": {},
   "outputs": [],
   "source": [
    "class Circle(Shape) :\n",
    "    pi = 3.14\n",
    "    def __init__(self, radius):\n",
    "        self.radius = radius\n",
    "        \n",
    "    def calculate_area(self):\n",
    "        return Circle.pi * self.radius"
   ]
  },
  {
   "cell_type": "code",
   "execution_count": 5,
   "id": "c940f472-c72f-4a37-a024-bae99e9d35ca",
   "metadata": {},
   "outputs": [
    {
     "name": "stdout",
     "output_type": "stream",
     "text": [
      "The circle with = 7 radius having a color blue which costs Rs 219.8\n"
     ]
    }
   ],
   "source": [
    "c = Circle(7)\n",
    "\n",
    "c.set_color(\"blue\")\n",
    "c.calculate_area()\n",
    "print(\"The circle with =\",c.radius,\"radius having a color\",c.color,\"which costs Rs\",c.color_the_shape())"
   ]
  },
  {
   "cell_type": "code",
   "execution_count": 8,
   "id": "d243bd6b-a081-42bc-b8c7-1a8e4e450cad",
   "metadata": {},
   "outputs": [
    {
     "name": "stdout",
     "output_type": "stream",
     "text": [
      "area of rectangle =50 the color is blue and the price is 500\n"
     ]
    }
   ],
   "source": [
    "class Rectangle(Shape):\n",
    "    def __init__(self,length,breadth):\n",
    "        self.length = length\n",
    "        self.breadth = breadth\n",
    "\n",
    "    def calculate_area(self):\n",
    "        return self.length * self.breadth\n",
    "\n",
    "    def __str__(self):\n",
    "        return \"area of rectangle =\" + str(self.calculate_area())\n",
    "\n",
    "r = Rectangle(5,10)\n",
    "r.set_color(\"blue\")\n",
    "r.calculate_area()\n",
    "print(r,\"the color is\",r.color,\"and the price is\",r.color_the_shape())"
   ]
  },
  {
   "cell_type": "code",
   "execution_count": null,
   "id": "51e162df-1988-4bbf-a8f3-b9a3f2b5a849",
   "metadata": {},
   "outputs": [],
   "source": []
  },
  {
   "cell_type": "code",
   "execution_count": null,
   "id": "51fa4c5c-2064-4ef8-b2c4-89484115c117",
   "metadata": {},
   "outputs": [],
   "source": []
  }
 ],
 "metadata": {
  "kernelspec": {
   "display_name": "Python 3 (ipykernel)",
   "language": "python",
   "name": "python3"
  },
  "language_info": {
   "codemirror_mode": {
    "name": "ipython",
    "version": 3
   },
   "file_extension": ".py",
   "mimetype": "text/x-python",
   "name": "python",
   "nbconvert_exporter": "python",
   "pygments_lexer": "ipython3",
   "version": "3.13.5"
  }
 },
 "nbformat": 4,
 "nbformat_minor": 5
}
