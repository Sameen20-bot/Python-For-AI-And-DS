{
 "cells": [
  {
   "cell_type": "markdown",
   "id": "9fe7358a-139e-4ee6-907a-5fb95e57d234",
   "metadata": {},
   "source": [
    "Dictionary\n",
    "\n",
    "    Dictionary stores element as keys and value pairs\n",
    "    The key is like an index, its always unique & immutable\n",
    "    The values are the objects that contain information\n",
    "    Values are accessed using their keys\n",
    "    Each key is followed by a value separated by a colon\n",
    "    The values can be immutable, mutable, & duplicates\n",
    "    Each key and value pair is separated by a comma enclosed inside curly brackets\n"
   ]
  },
  {
   "cell_type": "code",
   "execution_count": 2,
   "id": "5cce43b8-c542-4c91-a8b2-a2a3809b96d8",
   "metadata": {},
   "outputs": [
    {
     "data": {
      "text/plain": [
       "'INR'"
      ]
     },
     "execution_count": 2,
     "metadata": {},
     "output_type": "execute_result"
    }
   ],
   "source": [
    "# Creating a dictionary\n",
    "\n",
    "d1 = {\"India\": \"INR\", \"USA\": \"USD\", \"Hong Kong\": \"HKD\"}\n",
    "# Accessing value using keys\n",
    "\n",
    "d1[\"India\"]"
   ]
  },
  {
   "cell_type": "code",
   "execution_count": 4,
   "id": "6ae0530f-dd79-488d-a0a3-135bc31c05f0",
   "metadata": {},
   "outputs": [
    {
     "data": {
      "text/plain": [
       "{'India': 'PKR', 'USA': 'USD', 'Hong Kong': 'HKD'}"
      ]
     },
     "execution_count": 4,
     "metadata": {},
     "output_type": "execute_result"
    }
   ],
   "source": [
    "# Replacing the value for a key in a dictionary\n",
    "d1[\"India\"] = \"PKR\"\n",
    "d1"
   ]
  },
  {
   "cell_type": "code",
   "execution_count": 5,
   "id": "3b091467-9bab-45a0-b04b-51e82c56a7a3",
   "metadata": {},
   "outputs": [
    {
     "data": {
      "text/plain": [
       "{'India': 'PKR', 'USA': 'USD', 'Hong Kong': 'HKD', 'Japan': 'PKR'}"
      ]
     },
     "execution_count": 5,
     "metadata": {},
     "output_type": "execute_result"
    }
   ],
   "source": [
    "d1[\"Japan\"] = \"PKR\"\n",
    "d1"
   ]
  },
  {
   "cell_type": "code",
   "execution_count": 6,
   "id": "8cc9afa0-1b6c-4b08-8cfd-98b6dc8739ca",
   "metadata": {},
   "outputs": [
    {
     "data": {
      "text/plain": [
       "{'USA': 'USD', 'Hong Kong': 'HKD', 'Japan': 'PKR'}"
      ]
     },
     "execution_count": 6,
     "metadata": {},
     "output_type": "execute_result"
    }
   ],
   "source": [
    "# Deleting a key value pair\n",
    "del d1[\"India\"]\n",
    "d1"
   ]
  },
  {
   "cell_type": "code",
   "execution_count": 8,
   "id": "baf81b5a-df31-491c-b9e2-7bcec4f978bd",
   "metadata": {},
   "outputs": [
    {
     "data": {
      "text/plain": [
       "['Hong Kong', 'Japan', 'USA']"
      ]
     },
     "execution_count": 8,
     "metadata": {},
     "output_type": "execute_result"
    }
   ],
   "source": [
    "# Sorting a dictionary\n",
    "sorted(d1)"
   ]
  },
  {
   "cell_type": "code",
   "execution_count": 9,
   "id": "af187dcc-1c55-4b33-8499-1169af985e8c",
   "metadata": {},
   "outputs": [
    {
     "data": {
      "text/plain": [
       "dict_keys(['USA', 'Hong Kong', 'Japan'])"
      ]
     },
     "execution_count": 9,
     "metadata": {},
     "output_type": "execute_result"
    }
   ],
   "source": [
    "# keys() method\n",
    "d1.keys()"
   ]
  },
  {
   "cell_type": "code",
   "execution_count": 10,
   "id": "622e7927-43a6-479b-9f72-34668cac7f37",
   "metadata": {},
   "outputs": [
    {
     "data": {
      "text/plain": [
       "'PKR'"
      ]
     },
     "execution_count": 10,
     "metadata": {},
     "output_type": "execute_result"
    }
   ],
   "source": [
    "# get() method\n",
    "d1.get(\"Japan\")"
   ]
  },
  {
   "cell_type": "code",
   "execution_count": 11,
   "id": "95c06c53-41d9-49e3-8ff3-1babb6cea65e",
   "metadata": {},
   "outputs": [
    {
     "data": {
      "text/plain": [
       "{'USA': 'PKR', 'Hong Kong': 'HKD', 'Japan': 'PKR'}"
      ]
     },
     "execution_count": 11,
     "metadata": {},
     "output_type": "execute_result"
    }
   ],
   "source": [
    "# update() method\n",
    "d1.update({\"USA\":\"PKR\"})\n",
    "d1"
   ]
  },
  {
   "cell_type": "markdown",
   "id": "28e1d9e4-de91-4b4e-b6db-bf0a5fe49fe2",
   "metadata": {},
   "source": [
    "Practice Codes\n",
    "Question 1\n",
    "Description\n",
    "\n",
    "Write code to fetch the profession of the employee with Employee id - 104 from an employee input given in the form of a dictionary where key represent employee id and values represent the name, age, and profession (in the same order).\n",
    "\n",
    "Sample input:\n",
    "\n",
    "Employee_data = { 101:['Shiva', 24, 'Content Strategist'] ,102:['Udit',25,'Content Strategist'], 103:['Sonam', 28,'Sr Manager'], 104:['Ansari',29,'Product Lead' ],105:['Huzefa',32,'Project Manager' ]}\n",
    "\n",
    "Sample output:\n",
    "\n",
    "'Product Lead'\n",
    "\n",
    "Note: Assume that employee data would be available in the data provided to you\n"
   ]
  },
  {
   "cell_type": "code",
   "execution_count": 12,
   "id": "7c1c4c1c-e54b-481d-afc8-99959c5ec288",
   "metadata": {},
   "outputs": [],
   "source": [
    "Employee_data = { 101:['Shiva', 24, 'Content Strategist'] ,102:['Udit',25,'Content Strategist'], 103:['Sonam', 28,'Sr Manager'], 104:['Ansari',29,'Product Lead' ],105:['Huzefa',32,'Project Manager' ]}"
   ]
  },
  {
   "cell_type": "code",
   "execution_count": 15,
   "id": "ff6c5276-dc19-4b73-ad54-408a3153fa68",
   "metadata": {},
   "outputs": [
    {
     "data": {
      "text/plain": [
       "['Ansari', 29, 'Product Lead']"
      ]
     },
     "execution_count": 15,
     "metadata": {},
     "output_type": "execute_result"
    }
   ],
   "source": [
    "employee = Employee_data[104]\n",
    "employee"
   ]
  },
  {
   "cell_type": "code",
   "execution_count": 16,
   "id": "1c27345b-a1d7-4ad7-9a35-096074bc3853",
   "metadata": {},
   "outputs": [
    {
     "data": {
      "text/plain": [
       "'Product Lead'"
      ]
     },
     "execution_count": 16,
     "metadata": {},
     "output_type": "execute_result"
    }
   ],
   "source": [
    "employee[2]"
   ]
  },
  {
   "cell_type": "markdown",
   "id": "9a78ccd9-5507-4972-8412-80435c72e084",
   "metadata": {},
   "source": [
    "Question 4\n",
    "Description\n",
    "\n",
    "From a Dictionary input_dict={'Name': 'Monty', 'Profession': 'Singer' }, get the value of a key based on user input which is not a part of the dictionary, in such a way that Python doesn't hit an error. If the key does not exist in the dictionary, Python should return 'NA'.\n",
    "\n",
    "Sample Input:\n",
    "\n",
    "{'Name': 'Monty', 'Profession': 'Singer' }\n",
    "\n",
    "Sample Output:\n",
    "\n",
    "NA\n"
   ]
  },
  {
   "cell_type": "code",
   "execution_count": 18,
   "id": "e97026a2-9856-48a4-890e-3371efd6d5c7",
   "metadata": {},
   "outputs": [
    {
     "name": "stdout",
     "output_type": "stream",
     "text": [
      "NA\n"
     ]
    }
   ],
   "source": [
    "input_dict={'Name': 'Monty', 'Profession': 'Singer' }\n",
    "\n",
    "if \"Label\" in input_dict.keys():\n",
    "    print(input-dict.get(\"Label\"))\n",
    "else:\n",
    "    print(\"NA\")"
   ]
  },
  {
   "cell_type": "code",
   "execution_count": 21,
   "id": "bc32882d-66bb-4a60-bc67-25fc33934a5f",
   "metadata": {},
   "outputs": [
    {
     "data": {
      "text/plain": [
       "'NA'"
      ]
     },
     "execution_count": 21,
     "metadata": {},
     "output_type": "execute_result"
    }
   ],
   "source": [
    "#Short Cut\n",
    "\n",
    "input_dict.get(\"Label\",\"NA\")"
   ]
  },
  {
   "cell_type": "markdown",
   "id": "1a47f9af-5236-4a5c-a945-08e283beb913",
   "metadata": {},
   "source": [
    "Question 5\n",
    "\n",
    "    List of Values in a Dictionary.\n",
    "\n",
    "Description\n",
    "\n",
    "Create a SORTED list of all values from the dictionary input_dict = {'Jack Dorsey' : 'Twitter' , 'Tim Cook' : 'Apple','Jeff Bezos' : 'Amazon' ,'Mukesh Ambani' : 'RJIO'}\n",
    "\n",
    "Sample Input:\n",
    "\n",
    "{'Jack Dorsey' : 'Twitter' , 'Tim Cook' : 'Apple','Jeff Bezos' : 'Amazon' ,'Mukesh Ambani' : 'RJIO'}\n",
    "\n",
    "Sample Output:\n",
    "\n",
    "﻿['Amazon', 'Apple', 'RJIO', 'Twitter']\n"
   ]
  },
  {
   "cell_type": "code",
   "execution_count": 22,
   "id": "7d610d3a-9b44-496c-9a1e-37262d3556b5",
   "metadata": {},
   "outputs": [],
   "source": [
    "input_dict = {'Jack Dorsey' : 'Twitter' , 'Tim Cook' : 'Apple','Jeff Bezos' : 'Amazon' ,'Mukesh Ambani' : 'RJIO'}"
   ]
  },
  {
   "cell_type": "code",
   "execution_count": 25,
   "id": "6e27122d-06ae-4fbd-b834-8b5a9029055a",
   "metadata": {},
   "outputs": [
    {
     "data": {
      "text/plain": [
       "['Twitter', 'Apple', 'Amazon', 'RJIO']"
      ]
     },
     "execution_count": 25,
     "metadata": {},
     "output_type": "execute_result"
    }
   ],
   "source": [
    "lists = list(input_dict.values())\n",
    "lists"
   ]
  },
  {
   "cell_type": "code",
   "execution_count": 27,
   "id": "4a4383ec-dc4f-49aa-9ef3-18e1d5124cce",
   "metadata": {},
   "outputs": [
    {
     "data": {
      "text/plain": [
       "['Amazon', 'Apple', 'RJIO', 'Twitter']"
      ]
     },
     "execution_count": 27,
     "metadata": {},
     "output_type": "execute_result"
    }
   ],
   "source": [
    "sort_list = sorted(lists)\n",
    "sort_list"
   ]
  },
  {
   "cell_type": "code",
   "execution_count": null,
   "id": "ddc8cf84-b578-4460-b02e-ef2b92d93d9e",
   "metadata": {},
   "outputs": [],
   "source": []
  }
 ],
 "metadata": {
  "kernelspec": {
   "display_name": "Python 3 (ipykernel)",
   "language": "python",
   "name": "python3"
  },
  "language_info": {
   "codemirror_mode": {
    "name": "ipython",
    "version": 3
   },
   "file_extension": ".py",
   "mimetype": "text/x-python",
   "name": "python",
   "nbconvert_exporter": "python",
   "pygments_lexer": "ipython3",
   "version": "3.13.5"
  }
 },
 "nbformat": 4,
 "nbformat_minor": 5
}
