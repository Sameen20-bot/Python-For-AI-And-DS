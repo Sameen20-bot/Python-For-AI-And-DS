{
 "cells": [
  {
   "cell_type": "markdown",
   "id": "4047b419-8232-49ea-a829-f83c98e02a05",
   "metadata": {},
   "source": [
    "# File Handling"
   ]
  },
  {
   "cell_type": "markdown",
   "id": "821646af-1c4c-4dec-8034-f1b1f6b95844",
   "metadata": {},
   "source": [
    "#### Reading a file"
   ]
  },
  {
   "cell_type": "code",
   "execution_count": 21,
   "id": "1b26c3cb-899a-428a-808d-069988c55fe6",
   "metadata": {},
   "outputs": [
    {
     "name": "stdout",
     "output_type": "stream",
     "text": [
      "This is my txt file\n",
      "\n",
      " Next line\n",
      "\n",
      " Next line\n",
      "\n",
      " Next lineNewwwwwwwNewwwwwwwNewwwwwwwNewwwwwww\n"
     ]
    }
   ],
   "source": [
    "file = open(\"text.txt\",\"r\")\n",
    "\n",
    "for line in file:\n",
    "    print(line)"
   ]
  },
  {
   "cell_type": "code",
   "execution_count": 22,
   "id": "c22b9273-e80c-475a-a7b2-f0b8724cfd55",
   "metadata": {},
   "outputs": [
    {
     "name": "stdout",
     "output_type": "stream",
     "text": [
      "This is my txt file\n",
      " Next line\n",
      " Next line\n",
      " Next lineNewwwwwwwNewwwwwwwNewwwwwwwNewwwwwww\n"
     ]
    }
   ],
   "source": [
    "with open(\"text.txt\") as file:\n",
    "    print(file.read())"
   ]
  },
  {
   "cell_type": "code",
   "execution_count": 23,
   "id": "3f45df61-fa90-40b0-b258-cb4e04e5e282",
   "metadata": {},
   "outputs": [
    {
     "name": "stdout",
     "output_type": "stream",
     "text": [
      "This \n"
     ]
    }
   ],
   "source": [
    "with open(\"text.txt\") as file:\n",
    "    print(file.read(5))"
   ]
  },
  {
   "cell_type": "code",
   "execution_count": 24,
   "id": "03924692-e35f-44cf-9b61-3b2ac1672955",
   "metadata": {},
   "outputs": [
    {
     "name": "stdout",
     "output_type": "stream",
     "text": [
      "This is my txt file\n",
      "\n"
     ]
    }
   ],
   "source": [
    "with open(\"text.txt\",\"r\") as file:\n",
    "    print(file.readline())"
   ]
  },
  {
   "cell_type": "markdown",
   "id": "60e380bf-7e4e-4414-9db0-01f566a9ef13",
   "metadata": {},
   "source": [
    "#### Writing a file"
   ]
  },
  {
   "cell_type": "code",
   "execution_count": 27,
   "id": "d81d6f13-9d54-431a-815a-6d368f1d78cc",
   "metadata": {},
   "outputs": [],
   "source": [
    "file = open(\"text.txt\",\"w\")\n",
    "\n",
    "file.write(\"New line here\")\n",
    "file.close()"
   ]
  },
  {
   "cell_type": "code",
   "execution_count": 28,
   "id": "b4f1ee48-1874-41a0-bf43-5f42be8db910",
   "metadata": {},
   "outputs": [
    {
     "name": "stdout",
     "output_type": "stream",
     "text": [
      "New line here\n"
     ]
    }
   ],
   "source": [
    "file = open(\"text.txt\",\"r\")\n",
    "print(file.read())"
   ]
  },
  {
   "cell_type": "code",
   "execution_count": 35,
   "id": "9b917603-18ee-4dd2-bc34-9ecdc7b7e4d5",
   "metadata": {},
   "outputs": [
    {
     "name": "stdout",
     "output_type": "stream",
     "text": [
      "New line here\n",
      "\n",
      " Second line\n",
      "\n",
      " Second line\n",
      "\n",
      " Second line\n",
      "\n",
      " Second line\n",
      "\n",
      " Second line\n",
      "\n",
      " Second line\n"
     ]
    }
   ],
   "source": [
    "with open(\"text.txt\",\"a\") as file:\n",
    "    file.write(\"\\n Second line\")\n",
    "\n",
    "with open(\"text.txt\",\"r\") as file:\n",
    "    for line in file:\n",
    "        print(line)"
   ]
  },
  {
   "cell_type": "code",
   "execution_count": 36,
   "id": "dce7cdcd-06f5-49d3-b4f1-491d30300d75",
   "metadata": {},
   "outputs": [
    {
     "name": "stdout",
     "output_type": "stream",
     "text": [
      "New line here\n",
      "\n",
      " Second line\n",
      "\n",
      " Second line\n",
      "\n",
      " Second line\n",
      "\n",
      " Second line\n",
      "\n",
      " Second line\n",
      "\n",
      " Second line\n"
     ]
    }
   ],
   "source": [
    "#using readline\n",
    "\n",
    "with open(\"text.txt\",\"r\") as file:\n",
    "    line = file.readline()\n",
    "    while line:\n",
    "        print(line)\n",
    "        line = file.readline()"
   ]
  },
  {
   "cell_type": "code",
   "execution_count": 38,
   "id": "b50a5bb0-2add-4da6-984a-ad5e8e3b77e0",
   "metadata": {},
   "outputs": [
    {
     "name": "stdout",
     "output_type": "stream",
     "text": [
      "New line here\n",
      " Second line\n",
      " Second line\n",
      " Second line\n",
      " Second line\n",
      " Second line\n",
      " Second lineThird line\n"
     ]
    }
   ],
   "source": [
    "with open(\"text.txt\",\"a+\") as file:\n",
    "    file.write(\"Third line\")\n",
    "    file.seek(0)\n",
    "    print(file.read())"
   ]
  },
  {
   "cell_type": "code",
   "execution_count": null,
   "id": "2e78c9c7-54b4-4dba-a2b1-0abdf830c884",
   "metadata": {},
   "outputs": [],
   "source": []
  }
 ],
 "metadata": {
  "kernelspec": {
   "display_name": "Python 3 (ipykernel)",
   "language": "python",
   "name": "python3"
  },
  "language_info": {
   "codemirror_mode": {
    "name": "ipython",
    "version": 3
   },
   "file_extension": ".py",
   "mimetype": "text/x-python",
   "name": "python",
   "nbconvert_exporter": "python",
   "pygments_lexer": "ipython3",
   "version": "3.13.5"
  }
 },
 "nbformat": 4,
 "nbformat_minor": 5
}
