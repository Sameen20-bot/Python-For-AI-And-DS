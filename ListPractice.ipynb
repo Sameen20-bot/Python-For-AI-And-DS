{
 "cells": [
  {
   "cell_type": "code",
   "execution_count": 2,
   "id": "e69b6a83-ad8c-44c1-a22f-1caa186b5da0",
   "metadata": {},
   "outputs": [],
   "source": [
    "list1 = [\"Gaza\", \"Palestine\",\"Watermelon\"]"
   ]
  },
  {
   "cell_type": "code",
   "execution_count": 3,
   "id": "c8cd429d-e76c-4532-b0cc-a2b501ca4c32",
   "metadata": {},
   "outputs": [
    {
     "data": {
      "text/plain": [
       "['Gaza', 'Palestine', 'Watermelon']"
      ]
     },
     "execution_count": 3,
     "metadata": {},
     "output_type": "execute_result"
    }
   ],
   "source": [
    "list1"
   ]
  },
  {
   "cell_type": "code",
   "execution_count": 4,
   "id": "020f3f2c-790f-4118-8159-fee3cba10d5a",
   "metadata": {},
   "outputs": [
    {
     "name": "stdout",
     "output_type": "stream",
     "text": [
      "3\n",
      "<class 'list'>\n"
     ]
    }
   ],
   "source": [
    "print(len(list1))\n",
    "print(type(list1))"
   ]
  },
  {
   "cell_type": "code",
   "execution_count": 6,
   "id": "d2789af0-c46e-40d0-95ba-e28877d7a407",
   "metadata": {},
   "outputs": [
    {
     "name": "stdout",
     "output_type": "stream",
     "text": [
      "[1, 2, 3, [4, 5]]\n"
     ]
    }
   ],
   "source": [
    "#Nested list\n",
    "nest = [1,2,3,[4,5]]\n",
    "print(nest)"
   ]
  },
  {
   "cell_type": "code",
   "execution_count": 8,
   "id": "f30d330a-1c4b-40b9-86f0-5a60358eb092",
   "metadata": {},
   "outputs": [
    {
     "data": {
      "text/plain": [
       "4"
      ]
     },
     "execution_count": 8,
     "metadata": {},
     "output_type": "execute_result"
    }
   ],
   "source": [
    "nest[3][0]"
   ]
  },
  {
   "cell_type": "code",
   "execution_count": 10,
   "id": "642caff3-0ae8-4bcd-b1dd-d1057237b416",
   "metadata": {},
   "outputs": [
    {
     "data": {
      "text/plain": [
       "4"
      ]
     },
     "execution_count": 10,
     "metadata": {},
     "output_type": "execute_result"
    }
   ],
   "source": [
    "nest[3][-2]"
   ]
  },
  {
   "cell_type": "code",
   "execution_count": 13,
   "id": "b6a107c5-a04b-4112-a5fb-b7ccc0cd8de6",
   "metadata": {},
   "outputs": [
    {
     "data": {
      "text/plain": [
       "4"
      ]
     },
     "execution_count": 13,
     "metadata": {},
     "output_type": "execute_result"
    }
   ],
   "source": [
    "nest[-1][-2]"
   ]
  },
  {
   "cell_type": "code",
   "execution_count": 14,
   "id": "136f5d3e-98d1-4147-97f2-a449ac99da44",
   "metadata": {},
   "outputs": [],
   "source": [
    "#list concat\n",
    "list1 = [1,2,3,4]\n",
    "list2 = [5,6,7,8]"
   ]
  },
  {
   "cell_type": "code",
   "execution_count": 15,
   "id": "c2b5b389-4d6e-4049-bbc2-7250a8dd58d7",
   "metadata": {},
   "outputs": [],
   "source": [
    "new_list = list1 + list2"
   ]
  },
  {
   "cell_type": "code",
   "execution_count": 17,
   "id": "cf2bdf4a-5e85-4db4-94a0-cf66ed8d7eb9",
   "metadata": {},
   "outputs": [
    {
     "data": {
      "text/plain": [
       "[1, 2, 3, 4, 5, 6, 7, 8]"
      ]
     },
     "execution_count": 17,
     "metadata": {},
     "output_type": "execute_result"
    }
   ],
   "source": [
    "new_list"
   ]
  },
  {
   "cell_type": "code",
   "execution_count": 19,
   "id": "e3045b19-8d7b-42ef-bb88-75b030994344",
   "metadata": {},
   "outputs": [
    {
     "name": "stdout",
     "output_type": "stream",
     "text": [
      "[1, 2, 3, 4, 5]\n"
     ]
    }
   ],
   "source": [
    "#Add two elements in an existing list\n",
    "list3 = [1,2,3]\n",
    "new_list1 = list3 + [4,5]\n",
    "print(new_list1)"
   ]
  },
  {
   "cell_type": "code",
   "execution_count": 21,
   "id": "0b4802ce-355a-4d84-886f-5d85547fb505",
   "metadata": {},
   "outputs": [
    {
     "name": "stdout",
     "output_type": "stream",
     "text": [
      "True\n",
      "False\n"
     ]
    }
   ],
   "source": [
    "#Membership in list and tuples\n",
    "lists = [1,2,3,4,5]\n",
    "print(1 in lists)\n",
    "print(6 in lists)"
   ]
  },
  {
   "cell_type": "code",
   "execution_count": 23,
   "id": "0a0fe25e-1e26-4445-bf0e-fe897d52bd97",
   "metadata": {},
   "outputs": [],
   "source": [
    "sub = [\"Maths\", \"Physics\", \"Chemistry\", \"Biology\"]"
   ]
  },
  {
   "cell_type": "code",
   "execution_count": 24,
   "id": "f5058874-aa22-4974-8a25-62e7d7206726",
   "metadata": {},
   "outputs": [],
   "source": [
    "sub[3] = \"Computer\""
   ]
  },
  {
   "cell_type": "code",
   "execution_count": 26,
   "id": "36225c74-128e-47b3-846f-62c93445ddf0",
   "metadata": {},
   "outputs": [
    {
     "data": {
      "text/plain": [
       "['Maths', 'Physics', 'Chemistry', 'Computer']"
      ]
     },
     "execution_count": 26,
     "metadata": {},
     "output_type": "execute_result"
    }
   ],
   "source": [
    "sub"
   ]
  },
  {
   "cell_type": "code",
   "execution_count": 31,
   "id": "2990e513-41da-4f91-ad2a-da226e53e323",
   "metadata": {},
   "outputs": [],
   "source": [
    "#extend() function --> It extends the list\n",
    "list2 = [1,2,3]\n",
    "list2.extend([4,5])"
   ]
  },
  {
   "cell_type": "code",
   "execution_count": 35,
   "id": "5df8c5ea-b0c2-4bf5-ba44-f79830949407",
   "metadata": {},
   "outputs": [
    {
     "name": "stdout",
     "output_type": "stream",
     "text": [
      "5\n"
     ]
    },
    {
     "data": {
      "text/plain": [
       "[1, 2, 3, 4, 5]"
      ]
     },
     "execution_count": 35,
     "metadata": {},
     "output_type": "execute_result"
    }
   ],
   "source": [
    "print(len(list2))\n",
    "list2"
   ]
  },
  {
   "cell_type": "code",
   "execution_count": 36,
   "id": "129c049f-657c-484c-92ca-0d824637800a",
   "metadata": {},
   "outputs": [],
   "source": [
    "#append() function\n",
    "list3 = [1,2,3]\n",
    "list3.append([4,5])"
   ]
  },
  {
   "cell_type": "code",
   "execution_count": 37,
   "id": "4420ff2b-1b3f-409c-8265-bb70e5cea16f",
   "metadata": {},
   "outputs": [
    {
     "data": {
      "text/plain": [
       "[1, 2, 3, [4, 5]]"
      ]
     },
     "execution_count": 37,
     "metadata": {},
     "output_type": "execute_result"
    }
   ],
   "source": [
    "list3"
   ]
  },
  {
   "cell_type": "code",
   "execution_count": 39,
   "id": "f2c51e0d-1ff0-49a6-9b19-70924ea867d7",
   "metadata": {},
   "outputs": [
    {
     "data": {
      "text/plain": [
       "[2, 3]"
      ]
     },
     "execution_count": 39,
     "metadata": {},
     "output_type": "execute_result"
    }
   ],
   "source": [
    "#del command\n",
    "list = [1,2,3]\n",
    "del list[0]\n",
    "list"
   ]
  },
  {
   "cell_type": "code",
   "execution_count": 42,
   "id": "dd04809c-8e0d-4490-9f3d-c7c2fb8f3159",
   "metadata": {},
   "outputs": [
    {
     "data": {
      "text/plain": [
       "[11, 33, 44]"
      ]
     },
     "execution_count": 42,
     "metadata": {},
     "output_type": "execute_result"
    }
   ],
   "source": [
    "#pop() - Deletes the object based on the index value\n",
    "# Default --> Removes the last element\n",
    "\n",
    "list1 = [11,22,33,44]\n",
    "\n",
    "list1.pop(1)\n",
    "list1"
   ]
  },
  {
   "cell_type": "code",
   "execution_count": 45,
   "id": "23d7f771-ec78-446e-a1af-b618ed2b13ed",
   "metadata": {},
   "outputs": [
    {
     "data": {
      "text/plain": [
       "[1, 2, 3]"
      ]
     },
     "execution_count": 45,
     "metadata": {},
     "output_type": "execute_result"
    }
   ],
   "source": [
    "#remove() - takes value as an input\n",
    "list1 = [1,2,3,4]\n",
    "list1.remove(4)\n",
    "list1"
   ]
  },
  {
   "cell_type": "code",
   "execution_count": 48,
   "id": "46d1bf6d-3b69-4d33-adeb-1f50d0695dcb",
   "metadata": {},
   "outputs": [
    {
     "data": {
      "text/plain": [
       "[2, 5, 9]"
      ]
     },
     "execution_count": 48,
     "metadata": {},
     "output_type": "execute_result"
    }
   ],
   "source": [
    "#Sorting \n",
    "A = [9,5,2]\n",
    "A.sort()\n",
    "A"
   ]
  },
  {
   "cell_type": "code",
   "execution_count": 50,
   "id": "c63ceccf-52af-4ead-a527-1093c552bef9",
   "metadata": {},
   "outputs": [
    {
     "data": {
      "text/plain": [
       "[9, 5, 2]"
      ]
     },
     "execution_count": 50,
     "metadata": {},
     "output_type": "execute_result"
    }
   ],
   "source": [
    "A.sort(reverse=True)\n",
    "A"
   ]
  },
  {
   "cell_type": "code",
   "execution_count": 52,
   "id": "9a7cfe7a-3ecf-4bc1-a325-67bf299ec64e",
   "metadata": {},
   "outputs": [
    {
     "name": "stdout",
     "output_type": "stream",
     "text": [
      "['Mango', 'Oranges', 'Strawberry']\n"
     ]
    }
   ],
   "source": [
    "# Difference between sort & sorted\n",
    "A = [\"Oranges\", \"Strawberry\", \"Mango\"]\n",
    "B = A.sort()\n",
    "print(A)"
   ]
  },
  {
   "cell_type": "code",
   "execution_count": 54,
   "id": "d6c13cae-8882-4433-81f8-253660ff5dad",
   "metadata": {},
   "outputs": [
    {
     "name": "stdout",
     "output_type": "stream",
     "text": [
      "None\n"
     ]
    }
   ],
   "source": [
    "print(B)"
   ]
  },
  {
   "cell_type": "code",
   "execution_count": 58,
   "id": "e2949b84-7d7a-437c-88c9-d3be1a6d5043",
   "metadata": {},
   "outputs": [
    {
     "name": "stdout",
     "output_type": "stream",
     "text": [
      "['Oranges', 'Strawberry', 'Mango']\n",
      "['Mango', 'Oranges', 'Strawberry']\n"
     ]
    }
   ],
   "source": [
    "A = [\"Oranges\", \"Strawberry\", \"Mango\"]\n",
    "B = sorted(A)\n",
    "print(A)\n",
    "print(B)"
   ]
  },
  {
   "cell_type": "code",
   "execution_count": 64,
   "id": "bed381cc-b67d-4a6a-b623-1c1f58ad4088",
   "metadata": {},
   "outputs": [
    {
     "name": "stdout",
     "output_type": "stream",
     "text": [
      "['Oranges', 'Strawberry', 'Mango']\n",
      "['Oranges']\n"
     ]
    }
   ],
   "source": [
    "# shallow copy\n",
    "A = [\"Oranges\", \"Strawberry\", \"Mango\"]\n",
    "C = A\n",
    "print(A)\n",
    "print(B)"
   ]
  },
  {
   "cell_type": "code",
   "execution_count": 62,
   "id": "433a466a-f5f0-4a30-bb83-89151cca639f",
   "metadata": {},
   "outputs": [
    {
     "data": {
      "text/plain": [
       "'Strawberry'"
      ]
     },
     "execution_count": 62,
     "metadata": {},
     "output_type": "execute_result"
    }
   ],
   "source": [
    "A.pop()"
   ]
  },
  {
   "cell_type": "markdown",
   "id": "0431534f-5424-4cda-b96d-0cead7fe17a0",
   "metadata": {},
   "source": [
    "Questions"
   ]
  },
  {
   "cell_type": "markdown",
   "id": "5a6466e8-72a6-4a77-aca8-cf70a393a963",
   "metadata": {},
   "source": [
    "Description\n",
    "\n",
    "Add the element ‘Python’ to a tuple input_tuple = ('Monty Python', 'British', 1969). Since tuples are immutable, one way to do this is to convert the tuple to a list, add the element, and convert it back to a tuple.\n",
    "\n",
    "Sample Input: ('Monty Python', 'British', 1969)\n",
    "\n",
    "Sample Output: ('Monty Python', 'British', 1969, 'Python')"
   ]
  },
  {
   "cell_type": "code",
   "execution_count": 4,
   "id": "a59c0cca-04d7-418e-a7ae-a23c932ae5ff",
   "metadata": {},
   "outputs": [],
   "source": [
    "input_tuple = ('Monty Python', 'British', 1969)"
   ]
  },
  {
   "cell_type": "code",
   "execution_count": 6,
   "id": "aa167151-4153-43a9-b244-bcfd21dc5c94",
   "metadata": {},
   "outputs": [],
   "source": [
    "lists = list(input_tuple)"
   ]
  },
  {
   "cell_type": "code",
   "execution_count": 7,
   "id": "9b404bac-0423-4a2a-ab97-1a6d35e525c2",
   "metadata": {},
   "outputs": [
    {
     "data": {
      "text/plain": [
       "['Monty Python', 'British', 1969, 'Python']"
      ]
     },
     "execution_count": 7,
     "metadata": {},
     "output_type": "execute_result"
    }
   ],
   "source": [
    "lists.append(\"Python\")\n",
    "lists"
   ]
  },
  {
   "cell_type": "code",
   "execution_count": 9,
   "id": "780e4ac1-9773-4f72-a291-5625fdf9934b",
   "metadata": {},
   "outputs": [],
   "source": [
    "new_tuple = tuple(lists)"
   ]
  },
  {
   "cell_type": "code",
   "execution_count": 11,
   "id": "76321a5a-6dd7-46dc-b37b-3b20857c8134",
   "metadata": {},
   "outputs": [
    {
     "data": {
      "text/plain": [
       "('Monty Python', 'British', 1969, 'Python')"
      ]
     },
     "execution_count": 11,
     "metadata": {},
     "output_type": "execute_result"
    }
   ],
   "source": [
    "new_tuple"
   ]
  },
  {
   "cell_type": "markdown",
   "id": "45c5f4da-fe71-4547-9c48-6ed89138d376",
   "metadata": {},
   "source": [
    "Description\n",
    "\n",
    "Split the string input_str = 'Kumar_Ravi_003' to the person's second name, first name and unique customer code. In this example, second_name= 'Kumar', first_name= 'Ravi', customer_code = '003'.\n",
    "\n",
    "A sample output of the input 'Kumar_Ravi_003' is:"
   ]
  },
  {
   "cell_type": "code",
   "execution_count": 15,
   "id": "ca09674d-6c1f-4db9-84a5-db5682a231c3",
   "metadata": {},
   "outputs": [
    {
     "data": {
      "text/plain": [
       "['Kumar', 'Ravi', '003']"
      ]
     },
     "execution_count": 15,
     "metadata": {},
     "output_type": "execute_result"
    }
   ],
   "source": [
    "input_str = 'Kumar_Ravi_003'\n",
    "list = input_str.split(\"_\")\n",
    "list"
   ]
  },
  {
   "cell_type": "code",
   "execution_count": 17,
   "id": "0b29db28-b2f1-469d-a1fa-3cad30af6476",
   "metadata": {},
   "outputs": [
    {
     "name": "stdout",
     "output_type": "stream",
     "text": [
      "First Name: Kumar\n",
      "Last Name: Ravi\n",
      "Customer Code: 003\n"
     ]
    }
   ],
   "source": [
    "print(\"First Name: \" + list[0])\n",
    "print(\"Last Name: \" + list[1])\n",
    "print(\"Customer Code: \" + list[2])"
   ]
  },
  {
   "cell_type": "markdown",
   "id": "a688b96c-237e-42ca-9f6f-3b4a9c6ef207",
   "metadata": {},
   "source": [
    "Questions\n",
    "Question 1: A List and a Tuple Together?\n",
    "Question 2: Indexing from the End\n",
    "\n",
    "    Suppose list_1 is [2, 33, 222, 14, 25]. What is list_1[-5]?\n",
    "\n",
    "Question 3: I Lost Everything!¶\n",
    "\n",
    "    word = ['1','2','3','4']\n",
    "    word[ : ] = [ ]\n",
    "    print(word)\n",
    "\n",
    "Sorted List\n",
    "\n",
    "    Consider the following list:\n",
    "    L = ['one','two','three', 'four', 'five', 'six']\n",
    "    print(sorted(L))\n",
    "    print (L)\n"
   ]
  },
  {
   "cell_type": "code",
   "execution_count": 19,
   "id": "72451372-43a9-4db0-933a-eb7a03ab8b38",
   "metadata": {},
   "outputs": [
    {
     "data": {
      "text/plain": [
       "[1, 2, (3, 4)]"
      ]
     },
     "execution_count": 19,
     "metadata": {},
     "output_type": "execute_result"
    }
   ],
   "source": [
    "list_tuple = [1,2,(3,4)]\n",
    "list_tuple"
   ]
  },
  {
   "cell_type": "code",
   "execution_count": 21,
   "id": "5a991f2d-5ca2-4938-820a-172bada53b7a",
   "metadata": {},
   "outputs": [
    {
     "data": {
      "text/plain": [
       "2"
      ]
     },
     "execution_count": 21,
     "metadata": {},
     "output_type": "execute_result"
    }
   ],
   "source": [
    "list_1 = [2, 33, 222, 14, 25]\n",
    "list_1[-5]"
   ]
  },
  {
   "cell_type": "code",
   "execution_count": 22,
   "id": "b555cf0e-0f2b-4255-8747-84c6e99fbb49",
   "metadata": {},
   "outputs": [
    {
     "data": {
      "text/plain": [
       "[]"
      ]
     },
     "execution_count": 22,
     "metadata": {},
     "output_type": "execute_result"
    }
   ],
   "source": [
    "word = ['1','2','3','4']\n",
    "word[:] = []\n",
    "word"
   ]
  },
  {
   "cell_type": "code",
   "execution_count": 26,
   "id": "508b2c86-f9cb-49f8-95c5-18925ec0bd10",
   "metadata": {},
   "outputs": [
    {
     "name": "stdout",
     "output_type": "stream",
     "text": [
      "['five', 'four', 'one', 'six', 'three', 'two']\n"
     ]
    }
   ],
   "source": [
    "L = ['one','two','three', 'four', 'five', 'six']\n",
    "L.sort()\n",
    "print(L)"
   ]
  }
 ],
 "metadata": {
  "kernelspec": {
   "display_name": "Python 3 (ipykernel)",
   "language": "python",
   "name": "python3"
  },
  "language_info": {
   "codemirror_mode": {
    "name": "ipython",
    "version": 3
   },
   "file_extension": ".py",
   "mimetype": "text/x-python",
   "name": "python",
   "nbconvert_exporter": "python",
   "pygments_lexer": "ipython3",
   "version": "3.13.5"
  }
 },
 "nbformat": 4,
 "nbformat_minor": 5
}
