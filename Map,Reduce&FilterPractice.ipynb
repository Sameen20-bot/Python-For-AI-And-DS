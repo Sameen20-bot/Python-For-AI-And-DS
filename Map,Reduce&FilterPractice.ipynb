{
 "cells": [
  {
   "cell_type": "markdown",
   "id": "75550fc9-4502-49b2-9738-30a1f2924a96",
   "metadata": {},
   "source": [
    "## Map, Reduce & Filter"
   ]
  },
  {
   "cell_type": "markdown",
   "id": "23424a9a-77b9-4d7d-93e1-3cbd7be418c6",
   "metadata": {},
   "source": [
    "### Area of a circle"
   ]
  },
  {
   "cell_type": "code",
   "execution_count": 2,
   "id": "8902083c-9772-46c9-ba62-bd65e1280a14",
   "metadata": {},
   "outputs": [
    {
     "data": {
      "text/plain": [
       "[3.141592653589793, 12.566370614359172, 28.274333882308138]"
      ]
     },
     "execution_count": 2,
     "metadata": {},
     "output_type": "execute_result"
    }
   ],
   "source": [
    "import math \n",
    "\n",
    "def area_circle(r):\n",
    "    return math.pi * (r**2)\n",
    "\n",
    "radius = [1,2,3]\n",
    "area = []\n",
    "\n",
    "for r in radius:\n",
    "    areas = area_circle(r)\n",
    "    area.append(areas)\n",
    "\n",
    "area"
   ]
  },
  {
   "cell_type": "markdown",
   "id": "9352e6be-6b51-4764-9c12-124d03302c37",
   "metadata": {},
   "source": [
    "#### map(f,iterable object)"
   ]
  },
  {
   "cell_type": "code",
   "execution_count": 3,
   "id": "3263c8d8-a9ae-4b57-9f94-a86fb6b2486c",
   "metadata": {},
   "outputs": [
    {
     "data": {
      "text/plain": [
       "<map at 0x2bfc0cd1510>"
      ]
     },
     "execution_count": 3,
     "metadata": {},
     "output_type": "execute_result"
    }
   ],
   "source": [
    "map(area_circle,radius)"
   ]
  },
  {
   "cell_type": "code",
   "execution_count": 5,
   "id": "1ce56499-51b0-43b4-824c-21a46ec22b4c",
   "metadata": {},
   "outputs": [
    {
     "data": {
      "text/plain": [
       "[3.141592653589793, 12.566370614359172, 28.274333882308138]"
      ]
     },
     "execution_count": 5,
     "metadata": {},
     "output_type": "execute_result"
    }
   ],
   "source": [
    "list(map(area_circle,radius))"
   ]
  },
  {
   "cell_type": "markdown",
   "id": "dc6f23d3-45b1-4d7c-a5d2-46f78548a803",
   "metadata": {},
   "source": [
    "#### Convert Celcius scale to Farheneit \n",
    "\n",
    "#### F = 9/5*C + 32"
   ]
  },
  {
   "cell_type": "code",
   "execution_count": 6,
   "id": "fd625222-6262-481a-bf33-aba9a991dff5",
   "metadata": {},
   "outputs": [
    {
     "data": {
      "text/plain": [
       "[('Karachi', 80.6), ('Islamabad', 68.0), ('Lahore', 73.4)]"
      ]
     },
     "execution_count": 6,
     "metadata": {},
     "output_type": "execute_result"
    }
   ],
   "source": [
    "temps = [(\"Karachi\",27),(\"Islamabad\",20),(\"Lahore\",23)]\n",
    "\n",
    "x = lambda data: (data[0], (9/5)*data[1] + 32)\n",
    "\n",
    "list(map(x, temps))"
   ]
  },
  {
   "cell_type": "markdown",
   "id": "5911d582-802f-44fc-891f-b8bdfa65c34b",
   "metadata": {},
   "source": [
    "#### Filter Function - filters out the data \n",
    "#### filter(f, data)"
   ]
  },
  {
   "cell_type": "code",
   "execution_count": 22,
   "id": "c0eab997-f16b-459d-9f56-72773847350d",
   "metadata": {},
   "outputs": [
    {
     "data": {
      "text/plain": [
       "5.5"
      ]
     },
     "execution_count": 22,
     "metadata": {},
     "output_type": "execute_result"
    }
   ],
   "source": [
    "import statistics\n",
    "\n",
    "data = [1,2,3,4,5,6,7,8,9,10]\n",
    "\n",
    "avg = statistics.mean(data)\n",
    "\n",
    "avg"
   ]
  },
  {
   "cell_type": "code",
   "execution_count": 23,
   "id": "c361450a-d3c5-484c-9717-6c656b4dd015",
   "metadata": {},
   "outputs": [
    {
     "data": {
      "text/plain": [
       "<filter at 0x2bfc0cd0c40>"
      ]
     },
     "execution_count": 23,
     "metadata": {},
     "output_type": "execute_result"
    }
   ],
   "source": [
    "x = lambda a: avg > a\n",
    "\n",
    "filter(x, data)"
   ]
  },
  {
   "cell_type": "code",
   "execution_count": 24,
   "id": "2b4b4cb3-c259-4801-b5cc-d6c01eff3957",
   "metadata": {},
   "outputs": [
    {
     "data": {
      "text/plain": [
       "[1, 2, 3, 4, 5]"
      ]
     },
     "execution_count": 24,
     "metadata": {},
     "output_type": "execute_result"
    }
   ],
   "source": [
    "list(filter(x,data))"
   ]
  },
  {
   "cell_type": "code",
   "execution_count": 16,
   "id": "2bc6a97d-3594-4b68-993d-8947cfd7ed94",
   "metadata": {},
   "outputs": [
    {
     "data": {
      "text/plain": [
       "<filter at 0x2bfc0cf1480>"
      ]
     },
     "execution_count": 16,
     "metadata": {},
     "output_type": "execute_result"
    }
   ],
   "source": [
    "names = [\"Sameen\",\"Zaki\", 0, \"\"]\n",
    "filter(None,names)"
   ]
  },
  {
   "cell_type": "code",
   "execution_count": 18,
   "id": "45f5a3c5-9573-4a14-a6c7-a68decf24b98",
   "metadata": {},
   "outputs": [
    {
     "data": {
      "text/plain": [
       "['Sameen', 'Zaki']"
      ]
     },
     "execution_count": 18,
     "metadata": {},
     "output_type": "execute_result"
    }
   ],
   "source": [
    "list(filter(None,names))"
   ]
  },
  {
   "cell_type": "markdown",
   "id": "959d8cdc-9563-45c0-95ff-4cdb21c5886b",
   "metadata": {},
   "source": [
    "### Reduce Function\n",
    "### reduce(f, data)"
   ]
  },
  {
   "cell_type": "code",
   "execution_count": 19,
   "id": "8aa6290c-5e51-490a-9a1a-14a575ff52d8",
   "metadata": {},
   "outputs": [
    {
     "data": {
      "text/plain": [
       "6"
      ]
     },
     "execution_count": 19,
     "metadata": {},
     "output_type": "execute_result"
    }
   ],
   "source": [
    "from functools import reduce\n",
    "\n",
    "data = [1,2,3]\n",
    "\n",
    "x = lambda a,b: a * b\n",
    "\n",
    "reduce(x,data)"
   ]
  },
  {
   "cell_type": "code",
   "execution_count": 20,
   "id": "3aa54b8c-e48d-4c6d-8ca8-e3efba160fba",
   "metadata": {},
   "outputs": [
    {
     "data": {
      "text/plain": [
       "6"
      ]
     },
     "execution_count": 20,
     "metadata": {},
     "output_type": "execute_result"
    }
   ],
   "source": [
    "data = 3\n",
    "fact = 1\n",
    "\n",
    "for i in range(1, data+1):\n",
    "    fact = fact * i\n",
    "\n",
    "fact"
   ]
  },
  {
   "cell_type": "code",
   "execution_count": null,
   "id": "361345e0-3e24-4376-aa79-a734b9730fe8",
   "metadata": {},
   "outputs": [],
   "source": []
  },
  {
   "cell_type": "code",
   "execution_count": null,
   "id": "4985d5d8-bca0-4c1e-95b7-27853601ab26",
   "metadata": {},
   "outputs": [],
   "source": []
  },
  {
   "cell_type": "code",
   "execution_count": null,
   "id": "778c4f65-1465-46f4-b02c-8ca963ed0e8c",
   "metadata": {},
   "outputs": [],
   "source": []
  }
 ],
 "metadata": {
  "kernelspec": {
   "display_name": "Python 3 (ipykernel)",
   "language": "python",
   "name": "python3"
  },
  "language_info": {
   "codemirror_mode": {
    "name": "ipython",
    "version": 3
   },
   "file_extension": ".py",
   "mimetype": "text/x-python",
   "name": "python",
   "nbconvert_exporter": "python",
   "pygments_lexer": "ipython3",
   "version": "3.13.5"
  }
 },
 "nbformat": 4,
 "nbformat_minor": 5
}
