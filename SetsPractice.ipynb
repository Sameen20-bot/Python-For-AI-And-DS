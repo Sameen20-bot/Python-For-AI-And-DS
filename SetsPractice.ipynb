{
 "cells": [
  {
   "cell_type": "markdown",
   "id": "beb05270-57c7-4bbe-9143-0c3fd3d2f718",
   "metadata": {},
   "source": [
    "Sets\n",
    "\n",
    "    Sets are a type of collection like lists, tuples storing mixed data\n",
    "    Sets are enclosed within curly brackets and elements are written as comma-separated\n",
    "    Sets are unordered\n",
    "    Sets does not allow duplicates\n"
   ]
  },
  {
   "cell_type": "code",
   "execution_count": 1,
   "id": "fc4d91ba-efbb-4c3f-844a-658fbf142907",
   "metadata": {},
   "outputs": [
    {
     "data": {
      "text/plain": [
       "{1, 2, 3, 4, 5, 6, 7}"
      ]
     },
     "execution_count": 1,
     "metadata": {},
     "output_type": "execute_result"
    }
   ],
   "source": [
    "list1 = [1,2,3,4,5,6,5,7,2,2,2,3]\n",
    "sets = set(list1)\n",
    "sets"
   ]
  },
  {
   "cell_type": "code",
   "execution_count": 2,
   "id": "d7af9001-cde0-4dea-911d-3a98b6b96ffd",
   "metadata": {},
   "outputs": [
    {
     "data": {
      "text/plain": [
       "set"
      ]
     },
     "execution_count": 2,
     "metadata": {},
     "output_type": "execute_result"
    }
   ],
   "source": [
    "sets1 = set({})\n",
    "type(sets1)"
   ]
  },
  {
   "cell_type": "code",
   "execution_count": 4,
   "id": "390f1c1c-57bf-4d76-8256-804519727c97",
   "metadata": {},
   "outputs": [
    {
     "data": {
      "text/plain": [
       "{1, 2, 3, 4, 5, 6}"
      ]
     },
     "execution_count": 4,
     "metadata": {},
     "output_type": "execute_result"
    }
   ],
   "source": [
    "set_2 = {1,2,3,4,5}\n",
    "set_2.add(6)\n",
    "set_2"
   ]
  },
  {
   "cell_type": "code",
   "execution_count": 5,
   "id": "0d8b0854-a332-443e-ac6e-7822955b9108",
   "metadata": {},
   "outputs": [
    {
     "data": {
      "text/plain": [
       "{1, 3, 4, 5, 6}"
      ]
     },
     "execution_count": 5,
     "metadata": {},
     "output_type": "execute_result"
    }
   ],
   "source": [
    "set_2.remove(2)\n",
    "set_2"
   ]
  },
  {
   "cell_type": "markdown",
   "id": "45f3f669-48d9-4c02-9e54-2716d3a97c62",
   "metadata": {},
   "source": [
    "Set Operations"
   ]
  },
  {
   "cell_type": "code",
   "execution_count": 7,
   "id": "d284c272-bcfa-43ca-b92e-d5484916a13a",
   "metadata": {},
   "outputs": [],
   "source": [
    "A = {0,2,4,6,8}\n",
    "B = {1,2,3,4,5}"
   ]
  },
  {
   "cell_type": "code",
   "execution_count": 10,
   "id": "d9367bdf-c78c-4014-bea3-131d65cfce89",
   "metadata": {},
   "outputs": [
    {
     "name": "stdout",
     "output_type": "stream",
     "text": [
      "{0, 1, 2, 3, 4, 5, 6, 8}\n",
      "{0, 1, 2, 3, 4, 5, 6, 8}\n",
      "8\n"
     ]
    }
   ],
   "source": [
    "#union()\n",
    "print(A | B)\n",
    "print(A.union(B))\n",
    "print(len(A.union(B)))"
   ]
  },
  {
   "cell_type": "code",
   "execution_count": 11,
   "id": "f1424298-3eb3-4460-979a-1684bea5e22b",
   "metadata": {},
   "outputs": [
    {
     "name": "stdout",
     "output_type": "stream",
     "text": [
      "{2, 4}\n",
      "{2, 4}\n"
     ]
    }
   ],
   "source": [
    "#intersection() or common\n",
    "print(A & B)\n",
    "print(A.intersection(B))"
   ]
  },
  {
   "cell_type": "code",
   "execution_count": 12,
   "id": "9714a18d-8b40-422b-8ac8-f6f37cc18f91",
   "metadata": {},
   "outputs": [
    {
     "name": "stdout",
     "output_type": "stream",
     "text": [
      "{0, 8, 6}\n",
      "{0, 8, 6}\n"
     ]
    }
   ],
   "source": [
    "#difference - jo elements A ma hain lekin B ma nhi ha toh A walay ainga\n",
    "print(A - B)\n",
    "print(A.difference(B))"
   ]
  },
  {
   "cell_type": "code",
   "execution_count": 14,
   "id": "c0acc880-0539-4050-bca4-8f74d323ba92",
   "metadata": {},
   "outputs": [
    {
     "name": "stdout",
     "output_type": "stream",
     "text": [
      "{0, 1, 3, 5, 6, 8}\n"
     ]
    }
   ],
   "source": [
    "#symmetric difference - uncommon\n",
    "print(A ^ B)"
   ]
  },
  {
   "cell_type": "markdown",
   "id": "8e2e4949-cea6-4f6b-a9b4-f37c86459954",
   "metadata": {},
   "source": [
    "Why do we use Sets?\n",
    "\n",
    "Let’s take a look at an example to understand this better:\n",
    "\n",
    "Let’s say you have a huge list that contains student grades:\n",
    "\n",
    "Grades = ['A', 'A', 'B', 'C', 'D', 'B', 'B', 'C', 'D', 'E', 'C', 'C', 'A', 'B', 'F', 'D', 'C', 'B', 'C', 'A', 'B', 'F', 'B', 'A', 'E', 'B', 'B', 'C', 'D'...]\n",
    "\n",
    "You want to identify distinct grades allotted to students. Obviously, you cannot check every element of this list; instead, we make use of sets which gets our job done here. "
   ]
  },
  {
   "cell_type": "code",
   "execution_count": 15,
   "id": "43683e20-be52-4d1a-82fe-a8b039bfac8a",
   "metadata": {},
   "outputs": [
    {
     "data": {
      "text/plain": [
       "{'A', 'B', 'C', 'D', 'E', 'F'}"
      ]
     },
     "execution_count": 15,
     "metadata": {},
     "output_type": "execute_result"
    }
   ],
   "source": [
    "Grades = [\"A\", \"A\", \"B\", \"C\", \"D\", \"B\", \"B\", \"C\", \"D\", \"E\", \"C\", \"C\", \"A\", \"B\", \"F\", \"D\", \"C\", \"B\", \"C\", \"A\", \"B\", \"F\", \"B\", \"A\", \"E\", \"B\", \"B\", \"C\", \"D\"]\n",
    "set(Grades)"
   ]
  },
  {
   "cell_type": "markdown",
   "id": "a85b0c6d-7d91-4ddb-a9ce-684eb34ff9ec",
   "metadata": {},
   "source": [
    "Practice Codes\n",
    "\n",
    "Description Let’s say you have two lists A and B. Identify the elements which are common in the two lists A and B and return them in a sorted manner. For example\n",
    "Sample Input :\n",
    "\n",
    "A = [5,1,3,4,4,5,6,7]\n",
    "\n",
    "B = [3,3,5,5, 1 ,7 ,2]\n",
    "Sample Output:\n",
    "\n",
    "[1,3,5,7]\n"
   ]
  },
  {
   "cell_type": "code",
   "execution_count": 16,
   "id": "79bda247-2f62-43fa-a10d-b7946d783abf",
   "metadata": {},
   "outputs": [
    {
     "name": "stdout",
     "output_type": "stream",
     "text": [
      "[1, 3, 5, 7]\n"
     ]
    }
   ],
   "source": [
    "A = [5,1,3,4,4,5,6,7]\n",
    "B = [3,3,5,5, 1 ,7 ,2]\n",
    "list = set(A) & set(B)\n",
    "print(sorted(list))"
   ]
  },
  {
   "cell_type": "code",
   "execution_count": 30,
   "id": "064ba381-7546-484c-a2b5-4748994ac6db",
   "metadata": {},
   "outputs": [
    {
     "data": {
      "text/plain": [
       "{1, 2, 3, 4, 5, 6, 7}"
      ]
     },
     "execution_count": 30,
     "metadata": {},
     "output_type": "execute_result"
    }
   ],
   "source": [
    "list_1 = [5,1,3,4,4,5,6,7]\n",
    "list_2 = [3,3,5,5, 1 ,7 ,2]\n",
    "list_sets = set(list1)\n",
    "list_sets"
   ]
  },
  {
   "cell_type": "code",
   "execution_count": 23,
   "id": "4c0ffcca-99ff-49b1-8c05-7e1ba6d68bc8",
   "metadata": {},
   "outputs": [
    {
     "data": {
      "text/plain": [
       "{1, 2, 3, 5, 7}"
      ]
     },
     "execution_count": 23,
     "metadata": {},
     "output_type": "execute_result"
    }
   ],
   "source": [
    "i = list_sets.intersection(list_2)\n",
    "i"
   ]
  },
  {
   "cell_type": "code",
   "execution_count": 25,
   "id": "04fdf6c5-d788-4ad0-8f1d-f11fedf5562b",
   "metadata": {},
   "outputs": [
    {
     "data": {
      "text/plain": [
       "{0, 1, 2, 3, 4, 5, 6, 10, 11}"
      ]
     },
     "execution_count": 25,
     "metadata": {},
     "output_type": "execute_result"
    }
   ],
   "source": [
    "## Find the output\n",
    "A = {1,2,3,4,5,6}\n",
    "B = {0,1,2,10,11}\n",
    "A.union(B)"
   ]
  },
  {
   "cell_type": "code",
   "execution_count": 27,
   "id": "5d6a944b-5399-4d3a-803d-1542d857453a",
   "metadata": {},
   "outputs": [
    {
     "data": {
      "text/plain": [
       "{1, 2}"
      ]
     },
     "execution_count": 27,
     "metadata": {},
     "output_type": "execute_result"
    }
   ],
   "source": [
    "A.intersection(B)"
   ]
  },
  {
   "cell_type": "code",
   "execution_count": 29,
   "id": "19c9b72e-fc00-433d-ac99-08fa9f525615",
   "metadata": {},
   "outputs": [
    {
     "data": {
      "text/plain": [
       "{0, 3, 4, 5, 6, 10, 11}"
      ]
     },
     "execution_count": 29,
     "metadata": {},
     "output_type": "execute_result"
    }
   ],
   "source": [
    "(A.union(B)).difference(A.intersection(B))"
   ]
  }
 ],
 "metadata": {
  "kernelspec": {
   "display_name": "Python 3 (ipykernel)",
   "language": "python",
   "name": "python3"
  },
  "language_info": {
   "codemirror_mode": {
    "name": "ipython",
    "version": 3
   },
   "file_extension": ".py",
   "mimetype": "text/x-python",
   "name": "python",
   "nbconvert_exporter": "python",
   "pygments_lexer": "ipython3",
   "version": "3.13.5"
  }
 },
 "nbformat": 4,
 "nbformat_minor": 5
}
