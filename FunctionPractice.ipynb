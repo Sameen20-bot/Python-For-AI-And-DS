{
 "cells": [
  {
   "cell_type": "markdown",
   "id": "1072b7f2-417f-4f40-9a46-7ffdc036bad5",
   "metadata": {},
   "source": [
    "## Functions"
   ]
  },
  {
   "cell_type": "code",
   "execution_count": 2,
   "id": "1dd1d1e1-a405-4dbd-9928-702c1c3d44f4",
   "metadata": {},
   "outputs": [
    {
     "name": "stdout",
     "output_type": "stream",
     "text": [
      "2 is an even number.\n"
     ]
    }
   ],
   "source": [
    "# even or odd\n",
    "\n",
    "def even_odd(num):\n",
    "    if num % 2 == 0:\n",
    "        print(num, \"is an even number.\")\n",
    "    else:\n",
    "        print(num, \"is an odd number.\")\n",
    "\n",
    "even_odd(2)"
   ]
  },
  {
   "cell_type": "markdown",
   "id": "4ba38b2c-5ee6-4570-bc3e-94b3b64ec300",
   "metadata": {},
   "source": [
    "### Factorial"
   ]
  },
  {
   "cell_type": "code",
   "execution_count": 3,
   "id": "bde49910-5374-46e1-a0ac-c5797a4dc12d",
   "metadata": {},
   "outputs": [
    {
     "data": {
      "text/plain": [
       "120"
      ]
     },
     "execution_count": 3,
     "metadata": {},
     "output_type": "execute_result"
    }
   ],
   "source": [
    "def fact_number(num):\n",
    "    fact = 1\n",
    "    for i in range(1,num + 1):\n",
    "        fact = fact * i\n",
    "    return fact\n",
    "\n",
    "fact_number(5)\n",
    "\n",
    "        "
   ]
  },
  {
   "cell_type": "markdown",
   "id": "ece1f3d1-14b0-42cf-a87f-988e14352b12",
   "metadata": {},
   "source": [
    "### Sum of all natural numbers till the number provided"
   ]
  },
  {
   "cell_type": "code",
   "execution_count": 7,
   "id": "8ea7e858-7fd2-470a-ad61-b7d5ff1242e9",
   "metadata": {},
   "outputs": [
    {
     "data": {
      "text/plain": [
       "6"
      ]
     },
     "execution_count": 7,
     "metadata": {},
     "output_type": "execute_result"
    }
   ],
   "source": [
    "def sum_num(num):\n",
    "    total = 0\n",
    "    for i in range(1,num+1):\n",
    "        total = total + i\n",
    "    return total\n",
    "\n",
    "sum_num(3)"
   ]
  },
  {
   "cell_type": "code",
   "execution_count": 11,
   "id": "b5cd028b-879c-4945-97a1-f9593c1503fc",
   "metadata": {},
   "outputs": [
    {
     "name": "stdout",
     "output_type": "stream",
     "text": [
      "Sameen\n",
      "22\n"
     ]
    }
   ],
   "source": [
    "def func1(name, age=22):\n",
    "    print(name)\n",
    "    print(age)\n",
    "\n",
    "func1(\"Sameen\")"
   ]
  },
  {
   "cell_type": "markdown",
   "id": "d8038c12-3bfc-4281-9ac0-8ea8381a7f12",
   "metadata": {},
   "source": [
    "### Lambda Functions"
   ]
  },
  {
   "cell_type": "markdown",
   "id": "7b8adda9-71bd-4650-9827-8b9677dec34f",
   "metadata": {},
   "source": [
    "#### Create a lambda function that adds 10 to the number passed as an arguement, and print the result"
   ]
  },
  {
   "cell_type": "code",
   "execution_count": 12,
   "id": "d503a180-8dcc-4e83-8295-646360fa4dfd",
   "metadata": {},
   "outputs": [
    {
     "name": "stdout",
     "output_type": "stream",
     "text": [
      "2\n"
     ]
    }
   ],
   "source": [
    "x = lambda a: a + 1\n",
    "print(x(1))"
   ]
  },
  {
   "cell_type": "markdown",
   "id": "d6a4c5f7-8345-4897-9078-67ea08fff94e",
   "metadata": {},
   "source": [
    "#### Create a lambda function that checks a number is even or odd"
   ]
  },
  {
   "cell_type": "code",
   "execution_count": 13,
   "id": "d7ca93d4-068f-4468-8672-63478dbf24a9",
   "metadata": {},
   "outputs": [
    {
     "name": "stdout",
     "output_type": "stream",
     "text": [
      "even\n"
     ]
    }
   ],
   "source": [
    "x = lambda a: \"even\" if a % 2 == 0 else \"odd\"\n",
    "print(x(2))"
   ]
  },
  {
   "cell_type": "markdown",
   "id": "935ccae8-06de-482c-a8e2-84b163675a2b",
   "metadata": {},
   "source": [
    "#### Create a lambda function that adds two integers"
   ]
  },
  {
   "cell_type": "code",
   "execution_count": 14,
   "id": "0c55ceed-38af-497e-ae3a-c3c7ca0a82e0",
   "metadata": {},
   "outputs": [
    {
     "name": "stdout",
     "output_type": "stream",
     "text": [
      "4\n"
     ]
    }
   ],
   "source": [
    "x = lambda a,b: a + b\n",
    "print(x(2,2))"
   ]
  },
  {
   "cell_type": "code",
   "execution_count": null,
   "id": "0e4caa41-501c-45c5-b6a0-33d1b35f676f",
   "metadata": {},
   "outputs": [],
   "source": []
  }
 ],
 "metadata": {
  "kernelspec": {
   "display_name": "Python 3 (ipykernel)",
   "language": "python",
   "name": "python3"
  },
  "language_info": {
   "codemirror_mode": {
    "name": "ipython",
    "version": 3
   },
   "file_extension": ".py",
   "mimetype": "text/x-python",
   "name": "python",
   "nbconvert_exporter": "python",
   "pygments_lexer": "ipython3",
   "version": "3.13.5"
  }
 },
 "nbformat": 4,
 "nbformat_minor": 5
}
