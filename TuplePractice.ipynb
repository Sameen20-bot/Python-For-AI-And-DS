{
 "cells": [
  {
   "cell_type": "code",
   "execution_count": 66,
   "id": "0e2f8450-2b2a-4569-a780-9be6a1e22b73",
   "metadata": {},
   "outputs": [
    {
     "data": {
      "text/plain": [
       "tuple"
      ]
     },
     "execution_count": 66,
     "metadata": {},
     "output_type": "execute_result"
    }
   ],
   "source": [
    "t = (1,2,3)\n",
    "type(t)"
   ]
  },
  {
   "cell_type": "code",
   "execution_count": 68,
   "id": "de57366e-f9b7-49bd-836c-b6d9d8aa0698",
   "metadata": {},
   "outputs": [
    {
     "data": {
      "text/plain": [
       "3"
      ]
     },
     "execution_count": 68,
     "metadata": {},
     "output_type": "execute_result"
    }
   ],
   "source": [
    "len(t)"
   ]
  },
  {
   "cell_type": "code",
   "execution_count": 70,
   "id": "c06a0fe4-75fb-4306-8cec-68f00e4b2424",
   "metadata": {},
   "outputs": [
    {
     "data": {
      "text/plain": [
       "list"
      ]
     },
     "execution_count": 70,
     "metadata": {},
     "output_type": "execute_result"
    }
   ],
   "source": [
    "t1 = (\"hello\",1,[2,3])\n",
    "type(t1[2])"
   ]
  },
  {
   "cell_type": "markdown",
   "id": "63c7b915-1861-4618-9fa3-76f2913a30ae",
   "metadata": {},
   "source": [
    "    Tuples can be defined in various ways"
   ]
  },
  {
   "cell_type": "code",
   "execution_count": 72,
   "id": "afcd3447-433a-4577-b0d1-9cc433b668ef",
   "metadata": {},
   "outputs": [
    {
     "data": {
      "text/plain": [
       "2"
      ]
     },
     "execution_count": 72,
     "metadata": {},
     "output_type": "execute_result"
    }
   ],
   "source": [
    "t1 = 1,2,\n",
    "type(t1)\n",
    "len(t1)"
   ]
  },
  {
   "cell_type": "code",
   "execution_count": 74,
   "id": "8766c393-e2ab-487d-a382-d0dc0d28ac06",
   "metadata": {},
   "outputs": [
    {
     "data": {
      "text/plain": [
       "tuple"
      ]
     },
     "execution_count": 74,
     "metadata": {},
     "output_type": "execute_result"
    }
   ],
   "source": [
    "type(t1)"
   ]
  },
  {
   "cell_type": "code",
   "execution_count": 76,
   "id": "117597b1-b7d3-4a2f-af9e-387a9cff9767",
   "metadata": {},
   "outputs": [
    {
     "data": {
      "text/plain": [
       "tuple"
      ]
     },
     "execution_count": 76,
     "metadata": {},
     "output_type": "execute_result"
    }
   ],
   "source": [
    "t2 = 1.2,\n",
    "type(t2)"
   ]
  },
  {
   "cell_type": "code",
   "execution_count": 78,
   "id": "94bfc2a5-0e31-4879-af3d-d8b54dc0b110",
   "metadata": {},
   "outputs": [
    {
     "data": {
      "text/plain": [
       "tuple"
      ]
     },
     "execution_count": 78,
     "metadata": {},
     "output_type": "execute_result"
    }
   ],
   "source": [
    "t3 = (1,)\n",
    "type(t3)"
   ]
  },
  {
   "cell_type": "markdown",
   "id": "6b7c2bd9-f6a3-4ac0-9c77-44faf3bed294",
   "metadata": {},
   "source": [
    "Indexing In tuple"
   ]
  },
  {
   "cell_type": "code",
   "execution_count": 79,
   "id": "98122b49-7443-447b-bb3b-e543a927dffe",
   "metadata": {},
   "outputs": [],
   "source": [
    "t = (\"Mumbai\", 10, \"Python\", 100)"
   ]
  },
  {
   "cell_type": "code",
   "execution_count": 82,
   "id": "6f70e16f-8d07-43da-8add-11c616ed0e7a",
   "metadata": {},
   "outputs": [
    {
     "data": {
      "text/plain": [
       "(10, 'Python', 100)"
      ]
     },
     "execution_count": 82,
     "metadata": {},
     "output_type": "execute_result"
    }
   ],
   "source": [
    "t[1:]"
   ]
  },
  {
   "cell_type": "markdown",
   "id": "c5b6fb88-20c7-4a5a-8c18-5f4cd4fb8a7f",
   "metadata": {},
   "source": [
    "Slicing"
   ]
  },
  {
   "cell_type": "code",
   "execution_count": 85,
   "id": "2a6057e1-ac7f-4ab3-a338-8cd10d133bb8",
   "metadata": {},
   "outputs": [
    {
     "data": {
      "text/plain": [
       "('Mumbai', 10)"
      ]
     },
     "execution_count": 85,
     "metadata": {},
     "output_type": "execute_result"
    }
   ],
   "source": [
    "#slicing first 2 elements from t\n",
    "\n",
    "t = (\"Mumbai\", 10, \"Python\", 100)\n",
    "\n",
    "t[0:2]"
   ]
  },
  {
   "cell_type": "code",
   "execution_count": 87,
   "id": "a56c370b-063c-4626-b82b-e210efbcc5da",
   "metadata": {},
   "outputs": [
    {
     "data": {
      "text/plain": [
       "('Python', 100)"
      ]
     },
     "execution_count": 87,
     "metadata": {},
     "output_type": "execute_result"
    }
   ],
   "source": [
    "t[-2:]"
   ]
  },
  {
   "cell_type": "markdown",
   "id": "541f29ef-287d-4733-95c6-546a9aef0697",
   "metadata": {},
   "source": [
    "Concatenation"
   ]
  },
  {
   "cell_type": "code",
   "execution_count": 88,
   "id": "e8e20917-0910-4bba-9e39-5f218bb34a78",
   "metadata": {},
   "outputs": [],
   "source": [
    "tup1 = (\"welcome\", \"to\", \"today's\")\n",
    "tup2 = (\"class\", \"on\", \"python\")"
   ]
  },
  {
   "cell_type": "code",
   "execution_count": 89,
   "id": "03f0ebed-eb1f-4973-a7e2-3481b97cd58c",
   "metadata": {},
   "outputs": [],
   "source": [
    "tup3 = tup1 + tup2"
   ]
  },
  {
   "cell_type": "code",
   "execution_count": 92,
   "id": "44102789-7044-4e56-ab57-1fef8b2e762d",
   "metadata": {},
   "outputs": [
    {
     "data": {
      "text/plain": [
       "('welcome', 'to', \"today's\", 'class', 'on', 'python')"
      ]
     },
     "execution_count": 92,
     "metadata": {},
     "output_type": "execute_result"
    }
   ],
   "source": [
    "tup3"
   ]
  },
  {
   "cell_type": "markdown",
   "id": "65da60eb-265c-420c-a274-0c501fa7387f",
   "metadata": {},
   "source": [
    "min, max, sum functions"
   ]
  },
  {
   "cell_type": "code",
   "execution_count": 93,
   "id": "ac4a5549-f962-467d-abe2-0f767615589a",
   "metadata": {},
   "outputs": [],
   "source": [
    "t = (2,4,6,8)"
   ]
  },
  {
   "cell_type": "code",
   "execution_count": 96,
   "id": "ceea2a97-17bf-4593-9c30-14d2456f4695",
   "metadata": {},
   "outputs": [
    {
     "data": {
      "text/plain": [
       "20"
      ]
     },
     "execution_count": 96,
     "metadata": {},
     "output_type": "execute_result"
    }
   ],
   "source": [
    "sum(t)"
   ]
  },
  {
   "cell_type": "code",
   "execution_count": 97,
   "id": "4285bca8-e0e4-4458-bbbe-fc1162c3476b",
   "metadata": {},
   "outputs": [
    {
     "data": {
      "text/plain": [
       "2"
      ]
     },
     "execution_count": 97,
     "metadata": {},
     "output_type": "execute_result"
    }
   ],
   "source": [
    "t = (2,4,6,8)\n",
    "min(t)"
   ]
  },
  {
   "cell_type": "code",
   "execution_count": 98,
   "id": "7a5214e1-68fa-4ad8-84f5-5afdcd2aef80",
   "metadata": {},
   "outputs": [
    {
     "data": {
      "text/plain": [
       "8"
      ]
     },
     "execution_count": 98,
     "metadata": {},
     "output_type": "execute_result"
    }
   ],
   "source": [
    "max(t)"
   ]
  },
  {
   "cell_type": "code",
   "execution_count": 99,
   "id": "0cd8449b-7174-48a9-b69e-f64bd1a6b512",
   "metadata": {},
   "outputs": [],
   "source": [
    "tupo = (1,2,3,(4,5))"
   ]
  },
  {
   "cell_type": "code",
   "execution_count": 101,
   "id": "31134d60-51e1-4c66-bc99-51a8ebc0f37b",
   "metadata": {},
   "outputs": [
    {
     "data": {
      "text/plain": [
       "4"
      ]
     },
     "execution_count": 101,
     "metadata": {},
     "output_type": "execute_result"
    }
   ],
   "source": [
    "len(tupo)"
   ]
  },
  {
   "cell_type": "markdown",
   "id": "bed2d1e0-44c8-4220-9b09-2610f352c4be",
   "metadata": {},
   "source": [
    "Immutability"
   ]
  },
  {
   "cell_type": "code",
   "execution_count": 102,
   "id": "ace8fe51-8ebf-4732-917f-a8032983922d",
   "metadata": {},
   "outputs": [],
   "source": [
    "t = (\"Hello!!\", \"Welcome\" , 5, 10, \"world\", \"of\", \"Analytics!!\")"
   ]
  },
  {
   "cell_type": "code",
   "execution_count": 104,
   "id": "7099c253-6c0d-4764-9fd8-606a921a32f5",
   "metadata": {},
   "outputs": [
    {
     "ename": "TypeError",
     "evalue": "'tuple' object does not support item assignment",
     "output_type": "error",
     "traceback": [
      "\u001b[1;31m---------------------------------------------------------------------------\u001b[0m",
      "\u001b[1;31mTypeError\u001b[0m                                 Traceback (most recent call last)",
      "Cell \u001b[1;32mIn[104], line 1\u001b[0m\n\u001b[1;32m----> 1\u001b[0m t[\u001b[38;5;241m1\u001b[39m] \u001b[38;5;241m=\u001b[39m \u001b[38;5;124m\"\u001b[39m\u001b[38;5;124mMello\u001b[39m\u001b[38;5;124m\"\u001b[39m\n",
      "\u001b[1;31mTypeError\u001b[0m: 'tuple' object does not support item assignment"
     ]
    }
   ],
   "source": [
    "t[1] = \"Mello\""
   ]
  },
  {
   "cell_type": "code",
   "execution_count": 106,
   "id": "9b0ababc-86c6-4d29-9c56-1a6f86fe562f",
   "metadata": {},
   "outputs": [
    {
     "data": {
      "text/plain": [
       "('Hello!!', 'Welcome')"
      ]
     },
     "execution_count": 106,
     "metadata": {},
     "output_type": "execute_result"
    }
   ],
   "source": [
    "t[0:2]"
   ]
  },
  {
   "cell_type": "code",
   "execution_count": 110,
   "id": "2d4f8aac-41c7-45da-ac2f-d51159294b41",
   "metadata": {},
   "outputs": [
    {
     "data": {
      "text/plain": [
       "('world', 'of', 'Analytics!!')"
      ]
     },
     "execution_count": 110,
     "metadata": {},
     "output_type": "execute_result"
    }
   ],
   "source": [
    "t[-3:]"
   ]
  },
  {
   "cell_type": "code",
   "execution_count": 113,
   "id": "e6cfef5e-6755-4117-a191-abdfdb963439",
   "metadata": {},
   "outputs": [
    {
     "data": {
      "text/plain": [
       "('Hello!!', 'Welcome', 'to', 'the', 'world', 'of', 'Analytics!!')"
      ]
     },
     "execution_count": 113,
     "metadata": {},
     "output_type": "execute_result"
    }
   ],
   "source": [
    "#How to update the 2nd and 3rd element\n",
    "new_t = t[0:2] + (\"to\",\"the\") + t[-3:]\n",
    "new_t"
   ]
  },
  {
   "cell_type": "code",
   "execution_count": 114,
   "id": "a159ac8d-9a36-4f1f-b1bd-01ce2ee9548f",
   "metadata": {},
   "outputs": [
    {
     "data": {
      "text/plain": [
       "'s'"
      ]
     },
     "execution_count": 114,
     "metadata": {},
     "output_type": "execute_result"
    }
   ],
   "source": [
    "t = (\"disco\", 12, 4.5)\n",
    "t[0][2]"
   ]
  },
  {
   "cell_type": "markdown",
   "id": "091e4944-b78a-43aa-adfd-671af606bc9b",
   "metadata": {},
   "source": [
    "Sorting a Tuple"
   ]
  },
  {
   "cell_type": "code",
   "execution_count": 117,
   "id": "5c965553-14e6-46b5-9001-585eccf7976c",
   "metadata": {},
   "outputs": [
    {
     "data": {
      "text/plain": [
       "list"
      ]
     },
     "execution_count": 117,
     "metadata": {},
     "output_type": "execute_result"
    }
   ],
   "source": [
    "t = (2,3,8,5,4,1)\n",
    "lists = sorted(t)\n",
    "type(lists)"
   ]
  },
  {
   "cell_type": "code",
   "execution_count": 119,
   "id": "c06e4e4a-4e2e-4dae-94a3-c9606c282e89",
   "metadata": {},
   "outputs": [
    {
     "data": {
      "text/plain": [
       "[1, 2, 3, 4, 5, 8]"
      ]
     },
     "execution_count": 119,
     "metadata": {},
     "output_type": "execute_result"
    }
   ],
   "source": [
    "lists"
   ]
  },
  {
   "cell_type": "code",
   "execution_count": 122,
   "id": "07cf8b93-8821-4e21-8792-25e5f4d24eff",
   "metadata": {},
   "outputs": [
    {
     "data": {
      "text/plain": [
       "(1, 2, 3, 4, 5, 8)"
      ]
     },
     "execution_count": 122,
     "metadata": {},
     "output_type": "execute_result"
    }
   ],
   "source": [
    "tupo = tuple(lists)\n",
    "tupo"
   ]
  },
  {
   "cell_type": "code",
   "execution_count": 123,
   "id": "8b9333be-36d6-4465-8a64-babf129f67c5",
   "metadata": {},
   "outputs": [
    {
     "data": {
      "text/plain": [
       "str"
      ]
     },
     "execution_count": 123,
     "metadata": {},
     "output_type": "execute_result"
    }
   ],
   "source": [
    "t = ('2')\n",
    "type(t)"
   ]
  }
 ],
 "metadata": {
  "kernelspec": {
   "display_name": "Python 3 (ipykernel)",
   "language": "python",
   "name": "python3"
  },
  "language_info": {
   "codemirror_mode": {
    "name": "ipython",
    "version": 3
   },
   "file_extension": ".py",
   "mimetype": "text/x-python",
   "name": "python",
   "nbconvert_exporter": "python",
   "pygments_lexer": "ipython3",
   "version": "3.13.5"
  }
 },
 "nbformat": 4,
 "nbformat_minor": 5
}
